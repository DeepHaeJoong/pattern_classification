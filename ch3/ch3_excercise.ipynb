{
 "cells": [
  {
   "cell_type": "code",
   "execution_count": 2,
   "metadata": {
    "ExecuteTime": {
     "end_time": "2020-10-07T12:50:04.328977Z",
     "start_time": "2020-10-07T12:50:03.720452Z"
    }
   },
   "outputs": [],
   "source": [
    "import pandas as pd\n",
    "import numpy as np\n",
    "\n",
    "w1_x1 = np.array([0.42, -0.2, 1.3, 0.39, -1.6, -0.029, -0.23, 0.27, -1.9, 0.87])\n",
    "w1_x2 = np.array([-0.087, -3.3, -0.32, 0.71, -5.3, 0.89, 1.9, -0.3, 0.76, -1.0])\n",
    "w1_x3 = np.array([0.58, -3.4, 1.7, 0.23, -0.15, -4.7, 2.2, -0.87, -2.1, -2.6])\n",
    "\n",
    "w2_x1 = np.array([-0.4, -0.31, 0.38, -0.15, -0.35, 0.17, -0.011, -0.27, -0.065, -0.12])\n",
    "w2_x2 = np.array([0.58, 0.27, 0.055, 0.53, 0.47, 0.69, 0.55, 0.61, 0.49, 0.054])\n",
    "w2_x3 = np.array([0.089, -0.04, -0.0035, 0.011, 0.034, 0.1, -0.18, 0.12, 0.0012, -0.063])\n",
    "\n",
    "w3_x1 = np.array([0.83, 1.1, -0.44, 0.047, 0.28, -0.39, 0.34, -0.3, 1.1, 0.18])\n",
    "w3_x2 = np.array([1.6, 1.6, -0.41, -0.45, 0.35, -0.48, -0.079, -0.22, 1.2, -0.11])\n",
    "w3_x3 = np.array([-0.0014, 0.48, 0.32, 1.4, 3.1, 0.11, 0.14, 2.2, -0.46, -0.49])\n",
    "\n",
    "data = pd.DataFrame(np.array((w1_x1, w1_x2, w1_x3, w2_x1, w2_x2, w2_x3, w3_x1, w3_x2, w3_x3)).T, columns=('w1_x1', 'w1_x2', 'w1_x3', 'w2_x1', 'w2_x2', 'w2_x3', 'w3_x1', 'w3_x2', 'w3_x3'))"
   ]
  },
  {
   "cell_type": "code",
   "execution_count": 3,
   "metadata": {
    "ExecuteTime": {
     "end_time": "2020-10-07T12:50:04.345955Z",
     "start_time": "2020-10-07T12:50:04.329956Z"
    }
   },
   "outputs": [
    {
     "data": {
      "text/html": [
       "<div>\n",
       "<style scoped>\n",
       "    .dataframe tbody tr th:only-of-type {\n",
       "        vertical-align: middle;\n",
       "    }\n",
       "\n",
       "    .dataframe tbody tr th {\n",
       "        vertical-align: top;\n",
       "    }\n",
       "\n",
       "    .dataframe thead th {\n",
       "        text-align: right;\n",
       "    }\n",
       "</style>\n",
       "<table border=\"1\" class=\"dataframe\">\n",
       "  <thead>\n",
       "    <tr style=\"text-align: right;\">\n",
       "      <th></th>\n",
       "      <th>w1_x1</th>\n",
       "      <th>w1_x2</th>\n",
       "      <th>w1_x3</th>\n",
       "      <th>w2_x1</th>\n",
       "      <th>w2_x2</th>\n",
       "      <th>w2_x3</th>\n",
       "      <th>w3_x1</th>\n",
       "      <th>w3_x2</th>\n",
       "      <th>w3_x3</th>\n",
       "    </tr>\n",
       "  </thead>\n",
       "  <tbody>\n",
       "    <tr>\n",
       "      <th>0</th>\n",
       "      <td>0.420</td>\n",
       "      <td>-0.087</td>\n",
       "      <td>0.58</td>\n",
       "      <td>-0.400</td>\n",
       "      <td>0.580</td>\n",
       "      <td>0.0890</td>\n",
       "      <td>0.830</td>\n",
       "      <td>1.600</td>\n",
       "      <td>-0.0014</td>\n",
       "    </tr>\n",
       "    <tr>\n",
       "      <th>1</th>\n",
       "      <td>-0.200</td>\n",
       "      <td>-3.300</td>\n",
       "      <td>-3.40</td>\n",
       "      <td>-0.310</td>\n",
       "      <td>0.270</td>\n",
       "      <td>-0.0400</td>\n",
       "      <td>1.100</td>\n",
       "      <td>1.600</td>\n",
       "      <td>0.4800</td>\n",
       "    </tr>\n",
       "    <tr>\n",
       "      <th>2</th>\n",
       "      <td>1.300</td>\n",
       "      <td>-0.320</td>\n",
       "      <td>1.70</td>\n",
       "      <td>0.380</td>\n",
       "      <td>0.055</td>\n",
       "      <td>-0.0035</td>\n",
       "      <td>-0.440</td>\n",
       "      <td>-0.410</td>\n",
       "      <td>0.3200</td>\n",
       "    </tr>\n",
       "    <tr>\n",
       "      <th>3</th>\n",
       "      <td>0.390</td>\n",
       "      <td>0.710</td>\n",
       "      <td>0.23</td>\n",
       "      <td>-0.150</td>\n",
       "      <td>0.530</td>\n",
       "      <td>0.0110</td>\n",
       "      <td>0.047</td>\n",
       "      <td>-0.450</td>\n",
       "      <td>1.4000</td>\n",
       "    </tr>\n",
       "    <tr>\n",
       "      <th>4</th>\n",
       "      <td>-1.600</td>\n",
       "      <td>-5.300</td>\n",
       "      <td>-0.15</td>\n",
       "      <td>-0.350</td>\n",
       "      <td>0.470</td>\n",
       "      <td>0.0340</td>\n",
       "      <td>0.280</td>\n",
       "      <td>0.350</td>\n",
       "      <td>3.1000</td>\n",
       "    </tr>\n",
       "    <tr>\n",
       "      <th>5</th>\n",
       "      <td>-0.029</td>\n",
       "      <td>0.890</td>\n",
       "      <td>-4.70</td>\n",
       "      <td>0.170</td>\n",
       "      <td>0.690</td>\n",
       "      <td>0.1000</td>\n",
       "      <td>-0.390</td>\n",
       "      <td>-0.480</td>\n",
       "      <td>0.1100</td>\n",
       "    </tr>\n",
       "    <tr>\n",
       "      <th>6</th>\n",
       "      <td>-0.230</td>\n",
       "      <td>1.900</td>\n",
       "      <td>2.20</td>\n",
       "      <td>-0.011</td>\n",
       "      <td>0.550</td>\n",
       "      <td>-0.1800</td>\n",
       "      <td>0.340</td>\n",
       "      <td>-0.079</td>\n",
       "      <td>0.1400</td>\n",
       "    </tr>\n",
       "    <tr>\n",
       "      <th>7</th>\n",
       "      <td>0.270</td>\n",
       "      <td>-0.300</td>\n",
       "      <td>-0.87</td>\n",
       "      <td>-0.270</td>\n",
       "      <td>0.610</td>\n",
       "      <td>0.1200</td>\n",
       "      <td>-0.300</td>\n",
       "      <td>-0.220</td>\n",
       "      <td>2.2000</td>\n",
       "    </tr>\n",
       "    <tr>\n",
       "      <th>8</th>\n",
       "      <td>-1.900</td>\n",
       "      <td>0.760</td>\n",
       "      <td>-2.10</td>\n",
       "      <td>-0.065</td>\n",
       "      <td>0.490</td>\n",
       "      <td>0.0012</td>\n",
       "      <td>1.100</td>\n",
       "      <td>1.200</td>\n",
       "      <td>-0.4600</td>\n",
       "    </tr>\n",
       "    <tr>\n",
       "      <th>9</th>\n",
       "      <td>0.870</td>\n",
       "      <td>-1.000</td>\n",
       "      <td>-2.60</td>\n",
       "      <td>-0.120</td>\n",
       "      <td>0.054</td>\n",
       "      <td>-0.0630</td>\n",
       "      <td>0.180</td>\n",
       "      <td>-0.110</td>\n",
       "      <td>-0.4900</td>\n",
       "    </tr>\n",
       "  </tbody>\n",
       "</table>\n",
       "</div>"
      ],
      "text/plain": [
       "   w1_x1  w1_x2  w1_x3  w2_x1  w2_x2   w2_x3  w3_x1  w3_x2   w3_x3\n",
       "0  0.420 -0.087   0.58 -0.400  0.580  0.0890  0.830  1.600 -0.0014\n",
       "1 -0.200 -3.300  -3.40 -0.310  0.270 -0.0400  1.100  1.600  0.4800\n",
       "2  1.300 -0.320   1.70  0.380  0.055 -0.0035 -0.440 -0.410  0.3200\n",
       "3  0.390  0.710   0.23 -0.150  0.530  0.0110  0.047 -0.450  1.4000\n",
       "4 -1.600 -5.300  -0.15 -0.350  0.470  0.0340  0.280  0.350  3.1000\n",
       "5 -0.029  0.890  -4.70  0.170  0.690  0.1000 -0.390 -0.480  0.1100\n",
       "6 -0.230  1.900   2.20 -0.011  0.550 -0.1800  0.340 -0.079  0.1400\n",
       "7  0.270 -0.300  -0.87 -0.270  0.610  0.1200 -0.300 -0.220  2.2000\n",
       "8 -1.900  0.760  -2.10 -0.065  0.490  0.0012  1.100  1.200 -0.4600\n",
       "9  0.870 -1.000  -2.60 -0.120  0.054 -0.0630  0.180 -0.110 -0.4900"
      ]
     },
     "execution_count": 3,
     "metadata": {},
     "output_type": "execute_result"
    }
   ],
   "source": [
    "data"
   ]
  },
  {
   "cell_type": "code",
   "execution_count": 4,
   "metadata": {
    "ExecuteTime": {
     "end_time": "2020-10-07T12:50:05.010588Z",
     "start_time": "2020-10-07T12:50:05.004088Z"
    },
    "scrolled": true
   },
   "outputs": [
    {
     "data": {
      "text/html": [
       "<div>\n",
       "<style scoped>\n",
       "    .dataframe tbody tr th:only-of-type {\n",
       "        vertical-align: middle;\n",
       "    }\n",
       "\n",
       "    .dataframe tbody tr th {\n",
       "        vertical-align: top;\n",
       "    }\n",
       "\n",
       "    .dataframe thead th {\n",
       "        text-align: right;\n",
       "    }\n",
       "</style>\n",
       "<table border=\"1\" class=\"dataframe\">\n",
       "  <thead>\n",
       "    <tr style=\"text-align: right;\">\n",
       "      <th></th>\n",
       "      <th>w1_x1</th>\n",
       "      <th>w1_x2</th>\n",
       "      <th>w1_x3</th>\n",
       "    </tr>\n",
       "  </thead>\n",
       "  <tbody>\n",
       "    <tr>\n",
       "      <th>0</th>\n",
       "      <td>0.420</td>\n",
       "      <td>-0.087</td>\n",
       "      <td>0.58</td>\n",
       "    </tr>\n",
       "    <tr>\n",
       "      <th>1</th>\n",
       "      <td>-0.200</td>\n",
       "      <td>-3.300</td>\n",
       "      <td>-3.40</td>\n",
       "    </tr>\n",
       "    <tr>\n",
       "      <th>2</th>\n",
       "      <td>1.300</td>\n",
       "      <td>-0.320</td>\n",
       "      <td>1.70</td>\n",
       "    </tr>\n",
       "    <tr>\n",
       "      <th>3</th>\n",
       "      <td>0.390</td>\n",
       "      <td>0.710</td>\n",
       "      <td>0.23</td>\n",
       "    </tr>\n",
       "    <tr>\n",
       "      <th>4</th>\n",
       "      <td>-1.600</td>\n",
       "      <td>-5.300</td>\n",
       "      <td>-0.15</td>\n",
       "    </tr>\n",
       "    <tr>\n",
       "      <th>5</th>\n",
       "      <td>-0.029</td>\n",
       "      <td>0.890</td>\n",
       "      <td>-4.70</td>\n",
       "    </tr>\n",
       "    <tr>\n",
       "      <th>6</th>\n",
       "      <td>-0.230</td>\n",
       "      <td>1.900</td>\n",
       "      <td>2.20</td>\n",
       "    </tr>\n",
       "    <tr>\n",
       "      <th>7</th>\n",
       "      <td>0.270</td>\n",
       "      <td>-0.300</td>\n",
       "      <td>-0.87</td>\n",
       "    </tr>\n",
       "    <tr>\n",
       "      <th>8</th>\n",
       "      <td>-1.900</td>\n",
       "      <td>0.760</td>\n",
       "      <td>-2.10</td>\n",
       "    </tr>\n",
       "    <tr>\n",
       "      <th>9</th>\n",
       "      <td>0.870</td>\n",
       "      <td>-1.000</td>\n",
       "      <td>-2.60</td>\n",
       "    </tr>\n",
       "  </tbody>\n",
       "</table>\n",
       "</div>"
      ],
      "text/plain": [
       "   w1_x1  w1_x2  w1_x3\n",
       "0  0.420 -0.087   0.58\n",
       "1 -0.200 -3.300  -3.40\n",
       "2  1.300 -0.320   1.70\n",
       "3  0.390  0.710   0.23\n",
       "4 -1.600 -5.300  -0.15\n",
       "5 -0.029  0.890  -4.70\n",
       "6 -0.230  1.900   2.20\n",
       "7  0.270 -0.300  -0.87\n",
       "8 -1.900  0.760  -2.10\n",
       "9  0.870 -1.000  -2.60"
      ]
     },
     "execution_count": 4,
     "metadata": {},
     "output_type": "execute_result"
    }
   ],
   "source": [
    "data[['w1_x1', 'w1_x2', 'w1_x3']]"
   ]
  },
  {
   "cell_type": "markdown",
   "metadata": {},
   "source": [
    "### (a) Write a program to find maximum-likelihood values $\\hat{\\mu}$ and $\\hat{\\sigma}$. Apply your program individually to each of the three features $x_i$ of category $\\omega_1$ in the table above."
   ]
  },
  {
   "cell_type": "markdown",
   "metadata": {},
   "source": [
    "각각의 표본들은 정규분포에서 추출된다고 했을 때 각 표본의 표본분포는\n",
    "\n",
    "$$ f_{\\mu, \\sigma^2}(x_i) = \\frac{1}{\\sigma\\sqrt{2\\pi}} exp\\left(-\\frac{(x_i-\\mu)^2}{2\\sigma^2}\\right) $$"
   ]
  },
  {
   "cell_type": "markdown",
   "metadata": {},
   "source": [
    "이고 $x_1, x_2, \\cdots, x_n$ 은 모두 독립적으로 추출했다고 가정하자. 그러면 우도(likelihood)는\n",
    "\n",
    "$$P(x|\\theta) = \\prod_{i=1}^{n}f_{\\mu, \\sigma^2}(x_i) = \\prod_{i=1}^{n}\\frac{1}{\\sigma\\sqrt{2\\pi}} exp(-\\frac{(x_i-\\mu)^2}{2\\sigma^2})$$\n",
    "\n",
    "이고, 로그-우도는\n",
    "\n",
    "$$L(\\theta|x) = \\sum_{i=1}^{n}log\\frac{1}{\\sigma\\sqrt{2\\pi}}exp\\left(-\\frac{(x_i-\\mu)^2}{2\\sigma^2}\\right)$$\n",
    "\n",
    "이다. 따라서 $L(\\theta|x)$를 $\\mu$에 대해 편미분하면,\n",
    "\n",
    "$$\n",
    "\\frac{\\partial L(\\theta|x)}{\\partial \\mu} =-\\frac{1}{2\\sigma^2}\\sum_{i=1}^{n}\\frac{\\partial}{\\partial \\mu}\\left(x_i^2-2x_i\\mu+\\mu^2\\right)\n",
    "$$\n",
    "\n",
    "$$\n",
    "=-\\frac{1}{2\\sigma^2}\\sum_{i=1}^{n}\\left(-2x_i+2\\mu\\right)\n",
    "$$\n",
    "\n",
    "$$\n",
    "=\\frac{1}{\\sigma^2}\\sum_{i=1}^{n}(x_i-\\mu) = \\frac{1}{\\sigma^2}\\left(\\sum_{i=1}^{n}x_i-n\\mu\\right) = 0\n",
    "$$\n",
    "\n",
    "따라서 최대우도를 만들어주는 모평균의 추정량은\n",
    "\n"
   ]
  },
  {
   "cell_type": "markdown",
   "metadata": {},
   "source": [
    "$$ \\hat{\\mu} = \\frac{1}{n}\\sum_{i=1}^{n}x_i $$\n",
    "\n",
    "이다."
   ]
  },
  {
   "cell_type": "code",
   "execution_count": 18,
   "metadata": {
    "ExecuteTime": {
     "end_time": "2020-10-07T13:58:18.745055Z",
     "start_time": "2020-10-07T13:58:18.743054Z"
    }
   },
   "outputs": [],
   "source": [
    "# 최대우도를 만들어주는 모평균의 추정량 (단변량)\n",
    "\n",
    "def cal_mean(df):\n",
    "    return df.sum()/len(df)"
   ]
  },
  {
   "cell_type": "markdown",
   "metadata": {},
   "source": [
    "한편, $L(\\theta|x)$를 표준편차 $\\sigma$로 편미분하면\n",
    "\n",
    "$$\\frac{\\partial L(\\theta|x)}{\\partial \\sigma} = -\\frac{n}{\\sigma} - \\frac{1}{2}\\sum_{i=1}^{n}\\left(x_i-\\mu\\right)^2\\frac{\\partial}{\\partial\\sigma}\\left(\\frac{1}{\\sigma^2}\\right)$$\n",
    "\n",
    "$$\n",
    "=-\\frac{n}{\\sigma}+\\frac{1}{\\sigma^3}\\sum_{i=1}^{n}\\left(x_i-\\mu\\right)^2 = 0\n",
    "$$\n",
    "\n",
    "따라서, 최대우도를 만들어주는 모분산의 추정량은\n",
    "\n",
    "$$\\hat{\\sigma}^2 = \\frac{1}{n}\\sum_{i=1}^{n}\\left(x_i-\\mu\\right)^2$$\n",
    "\n",
    "이라는 것을 알 수 있다."
   ]
  },
  {
   "cell_type": "code",
   "execution_count": 19,
   "metadata": {
    "ExecuteTime": {
     "end_time": "2020-10-07T13:58:20.670290Z",
     "start_time": "2020-10-07T13:58:20.668290Z"
    }
   },
   "outputs": [],
   "source": [
    "# 최대우도를 만들어주는 모분산의 추정량 (단변량)\n",
    "\n",
    "def cal_variance(df):\n",
    "    return np.sum((df-(df.sum()/len(df)))**2)/len(df)"
   ]
  },
  {
   "cell_type": "code",
   "execution_count": 17,
   "metadata": {
    "ExecuteTime": {
     "end_time": "2020-10-07T13:32:25.646253Z",
     "start_time": "2020-10-07T13:32:25.639753Z"
    }
   },
   "outputs": [
    {
     "name": "stdout",
     "output_type": "stream",
     "text": [
      "------소숫점 문제로 오차 발생 가능------\n",
      "Maximum Likelihood mean of estimates w1_x1 : -0.07089999999999998\n",
      "Maximum Likelihood mean of estimates w1_x2 : -0.6047000000000001\n",
      "Maximum Likelihood mean of estimates w1_x3 : -0.9109999999999999\n",
      "----------------------------------------\n",
      "Maximum Likelihood variance estimates of w1_x1 : 0.9061772900000001\n",
      "Maximum Likelihood variance estimates of w1_x2 : 4.200714809999999\n",
      "Maximum Likelihood variance estimates of w1_x3 : 4.541949000000001\n"
     ]
    }
   ],
   "source": [
    "w1_x1_mean, w1_x2_mean, w1_x3_mean = cal_mean(data[['w1_x1', 'w1_x2', 'w1_x3']])\n",
    "w1_x1_variance, w1_x2_variance, w1_x3_variance = cal_variance(data[['w1_x1', 'w1_x2', 'w1_x3']])\n",
    "\n",
    "print(\"------소숫점 문제로 오차 발생 가능------\")\n",
    "print('Maximum Likelihood mean of estimates w1_x1 : {}'.format(w1_x1_mean))\n",
    "print('Maximum Likelihood mean of estimates w1_x2 : {}'.format(w1_x2_mean))\n",
    "print('Maximum Likelihood mean of estimates w1_x3 : {}'.format(w1_x3_mean))\n",
    "print('----------------------------------------')\n",
    "print('Maximum Likelihood variance estimates of w1_x1 : {}'.format(w1_x1_variance))\n",
    "print('Maximum Likelihood variance estimates of w1_x2 : {}'.format(w1_x2_variance))\n",
    "print('Maximum Likelihood variance estimates of w1_x3 : {}'.format(w1_x3_variance))"
   ]
  },
  {
   "cell_type": "markdown",
   "metadata": {},
   "source": [
    "### (b) Modify your program to apply to two-dimensional Gaussian data $p(\\mathbf{x}) \\sim N(\\boldsymbol{\\mu}, \\boldsymbol{\\sum})$. "
   ]
  },
  {
   "cell_type": "markdown",
   "metadata": {},
   "source": [
    "각각의 표본들은 정규분포에서 추출된다고 했을 때 각 표본의 표본분포는\n",
    "\n",
    "$$\\mathbf{x^{(i)}} \\sim \\mathcal{N}_p(\\mu, \\Sigma)$$\n",
    "\n",
    "이고 $\\mathbf{x}_1,\\mathbf{x}_2, ... ,\\mathbf{x}_n$  은 모두 독립적으로 추출했다고 가정하자. 그러면 이고, 로그-우도는(Log-likelihood)는\n",
    "\n",
    "$$\\begin{aligned}\n",
    "\tL(\\theta|\\mathbf{x}) & = \\log \\prod_{i=1}^m f_{\\mathbf{X^{(i)}}}(\\mathbf{x^{(i)} | \\mu , \\Sigma })\n",
    "\t\\\\\n",
    "\t& =  \\log  \\ \\prod_{i=1}^m \\frac{1}{(2 \\pi)^{p/2} |\\Sigma|^{1/2}} \\exp \\left( - \\frac{1}{2} \\mathbf{(x^{(i)} - \\mu)^T \\Sigma^{-1} (x^{(i)} - \\mu) } \\right) \n",
    "\t\\\\\n",
    "\t& = \\sum_{i=1}^m \\left( - \\frac{p}{2} \\log (2 \\pi) - \\frac{1}{2} \\log |\\Sigma|  - \\frac{1}{2}   \\mathbf{(x^{(i)} - \\mu)^T \\Sigma^{-1} (x^{(i)} - \\mu) }  \\right)\n",
    "\\end{aligned}$$\n",
    "\n",
    "$$\n",
    "\\begin{aligned}\n",
    "\tL(\\theta|\\mathbf{x}) & = - \\frac{mp}{2} \\log (2 \\pi) - \\frac{m}{2} \\log |\\Sigma|  - \\frac{1}{2}  \\sum_{i=1}^m  \\mathbf{(x^{(i)} - \\mu)^T \\Sigma^{-1} (x^{(i)} - \\mu) }  \n",
    "\\end{aligned}\n",
    "$$\n",
    "\n",
    "\n",
    "이다. 따라서 $L(\\theta|\\mathbf{x})$ 를  $\\mu$ 에 대해 편미분하면,\n",
    "\n",
    "> $\\mathbf{ \\frac{\\partial w^T A w}{\\partial w} = 2Aw}$ if $\\mathbf{w}$ does not depend on $\\mathbf{A}$ and $\\mathbf{A}$ is symmetric\n",
    "\n",
    "$$\n",
    "\\begin{aligned}\n",
    "\t\\frac{\\partial }{\\partial \\mu} L(\\theta|\\mathbf{x}) & = \\sum_{i=1}^m  \\mathbf{ \\Sigma^{-1} ( \\mu - x^{(i)} ) }  = 0\n",
    "\t\\\\ \n",
    "\t& \\text{Since $\\Sigma$ is positive definite}\n",
    "\t\\\\\n",
    "\t0 & = m \\mu - \\sum_{i=1}^m  \\mathbf{  x^{(i)} } \n",
    "\t\\\\\n",
    "\t\\hat \\mu &=  \\frac{1}{m} \\sum_{i=1}^m \\mathbf{  x^{(i)} } = \\mathbf{\\bar{x}}\n",
    "\\end{aligned}\n",
    "$$"
   ]
  },
  {
   "cell_type": "code",
   "execution_count": 286,
   "metadata": {
    "ExecuteTime": {
     "end_time": "2020-10-07T17:11:02.092285Z",
     "start_time": "2020-10-07T17:11:02.089785Z"
    }
   },
   "outputs": [],
   "source": [
    "# 최대우도를 만들어주는 모평균의 추정량 (다변량)\n",
    "\n",
    "def cal_multivariate_mean(df):\n",
    "    mat = df.values.tolist()\n",
    "    means = np.mean(mat, axis=0).tolist()\n",
    "    return means"
   ]
  },
  {
   "cell_type": "markdown",
   "metadata": {},
   "source": [
    "한편, $L(\\theta|x)$를 $\\hat \\Sigma$ 로 편미분하면\n",
    "\n",
    "Deriving the **MLE** for the covariance matrix requires more work and the use of the following linear algebra and calculus properties:\n",
    "\n",
    "$$\n",
    "\\begin{aligned}\n",
    "\tL(\\theta|\\mathbf{x})  & = \\text{C} - \\frac{m}{2} \\log |\\Sigma|  - \\frac{1}{2}  \\sum_{i=1}^m  \\mathbf{(x^{(i)} - \\mu)^T \\Sigma^{-1} (x^{(i)} - \\mu) }  \n",
    "\t\\\\\n",
    "\t& = \\text{C} + \\frac{m}{2} \\log |\\Sigma^{-1}|  - \\frac{1}{2}  \\sum_{i=1}^m  tr[ \\mathbf{(x^{(i)} - \\mu) (x^{(i)} - \\mu)^T \\Sigma^{-1} }  ]\n",
    "\t\\\\\n",
    "\t\\frac{\\partial }{\\partial \\Sigma^{-1}} L(\\theta|\\mathbf{x}) & = \\frac{m}{2} \\Sigma - \\frac{1}{2}  \\sum_{i=1}^m \\mathbf{(x^{(i)} - \\mu) (x^{(i)} - \\mu)}^T \\ \\ \\text{Since $\\Sigma^T = \\Sigma$}\n",
    "\\end{aligned}\n",
    "$$\n",
    "\n",
    "Equating to zero and solving for $\\Sigma$\n",
    "\n",
    "$$\n",
    "\\begin{aligned}\n",
    "\t0 &= m \\Sigma -   \\sum_{i=1}^m \\mathbf{(x^{(i)} - \\mu) (x^{(i)} - \\mu)}^T \n",
    "\t\\\\\n",
    "\t\\hat \\Sigma & = \\frac{1}{m} \\sum_{i=1}^m \\mathbf{(x^{(i)} - \\hat \\mu) (x^{(i)} -\\hat  \\mu)}^T \n",
    "\\end{aligned}\n",
    "$$"
   ]
  },
  {
   "cell_type": "code",
   "execution_count": 267,
   "metadata": {
    "ExecuteTime": {
     "end_time": "2020-10-07T16:45:28.992605Z",
     "start_time": "2020-10-07T16:45:28.988105Z"
    }
   },
   "outputs": [],
   "source": [
    "# 최대우도를 만들어주는 공분산의 추정량 (다변량)\n",
    "\n",
    "def cal_multivariate_covariance(df):\n",
    "    mat = df.values.tolist()\n",
    "    means = np.mean(mat, axis=0).tolist()\n",
    "    cov_matrix = []\n",
    "    for i in range(len(means)):\n",
    "        covs = []\n",
    "        for j in range(len(means)):\n",
    "            sum = 0\n",
    "            for k in range(sample_n):\n",
    "                sum += (mat[k][i] - means[i])*(mat[k][j] - means[j])\n",
    "                result = sum / sample_n\n",
    "            covs.append(result)\n",
    "        cov_matrix.append(covs)\n",
    "    \n",
    "    return np.reshape(cov_matrix, (len(means), len(means)))"
   ]
  },
  {
   "cell_type": "markdown",
   "metadata": {},
   "source": [
    "$P(\\mathbf{x_1}, \\mathbf{x_2}) \\sim N(\\boldsymbol{\\mu}, \\boldsymbol{\\sum})$"
   ]
  },
  {
   "cell_type": "code",
   "execution_count": 287,
   "metadata": {
    "ExecuteTime": {
     "end_time": "2020-10-07T17:11:04.626460Z",
     "start_time": "2020-10-07T17:11:04.622459Z"
    }
   },
   "outputs": [
    {
     "data": {
      "text/plain": [
       "[-0.07089999999999998, -0.6047000000000001]"
      ]
     },
     "execution_count": 287,
     "metadata": {},
     "output_type": "execute_result"
    }
   ],
   "source": [
    "### mean\n",
    "\n",
    "cal_multivariate_mean(data[['w1_x1', 'w1_x2']])"
   ]
  },
  {
   "cell_type": "code",
   "execution_count": 278,
   "metadata": {
    "ExecuteTime": {
     "end_time": "2020-10-07T16:46:23.230054Z",
     "start_time": "2020-10-07T16:46:23.226053Z"
    }
   },
   "outputs": [
    {
     "data": {
      "text/plain": [
       "array([[0.90617729, 0.56778177],\n",
       "       [0.56778177, 4.20071481]])"
      ]
     },
     "execution_count": 278,
     "metadata": {},
     "output_type": "execute_result"
    }
   ],
   "source": [
    "# Covariance\n",
    "\n",
    "cal_multivariate_covariance(data[['w1_x1', 'w1_x2']])"
   ]
  },
  {
   "cell_type": "markdown",
   "metadata": {},
   "source": [
    "$P(\\mathbf{x_1}, \\mathbf{x_3}) \\sim N(\\boldsymbol{\\mu}, \\boldsymbol{\\sum})$"
   ]
  },
  {
   "cell_type": "code",
   "execution_count": 288,
   "metadata": {
    "ExecuteTime": {
     "end_time": "2020-10-07T17:12:14.615039Z",
     "start_time": "2020-10-07T17:12:14.611036Z"
    }
   },
   "outputs": [
    {
     "data": {
      "text/plain": [
       "[-0.07089999999999998, -0.9109999999999999]"
      ]
     },
     "execution_count": 288,
     "metadata": {},
     "output_type": "execute_result"
    }
   ],
   "source": [
    "### mean\n",
    "\n",
    "cal_multivariate_mean(data[['w1_x1', 'w1_x3']])"
   ]
  },
  {
   "cell_type": "code",
   "execution_count": 289,
   "metadata": {
    "ExecuteTime": {
     "end_time": "2020-10-07T17:12:19.144997Z",
     "start_time": "2020-10-07T17:12:19.140995Z"
    }
   },
   "outputs": [
    {
     "data": {
      "text/plain": [
       "array([[0.90617729, 0.3940801 ],\n",
       "       [0.3940801 , 4.541949  ]])"
      ]
     },
     "execution_count": 289,
     "metadata": {},
     "output_type": "execute_result"
    }
   ],
   "source": [
    "### Covariance\n",
    "\n",
    "cal_multivariate_covariance(data[['w1_x1', 'w1_x3']])"
   ]
  },
  {
   "cell_type": "markdown",
   "metadata": {},
   "source": [
    "$P(\\mathbf{x_2}, \\mathbf{x_3}) \\sim N(\\boldsymbol{\\mu}, \\boldsymbol{\\sum})$"
   ]
  },
  {
   "cell_type": "code",
   "execution_count": 290,
   "metadata": {
    "ExecuteTime": {
     "end_time": "2020-10-07T17:12:21.411721Z",
     "start_time": "2020-10-07T17:12:21.408220Z"
    }
   },
   "outputs": [
    {
     "data": {
      "text/plain": [
       "[-0.6047000000000001, -0.9109999999999999]"
      ]
     },
     "execution_count": 290,
     "metadata": {},
     "output_type": "execute_result"
    }
   ],
   "source": [
    "### mean\n",
    "\n",
    "cal_multivariate_mean(data[['w1_x2', 'w1_x3']])"
   ]
  },
  {
   "cell_type": "code",
   "execution_count": 291,
   "metadata": {
    "ExecuteTime": {
     "end_time": "2020-10-07T17:12:21.907030Z",
     "start_time": "2020-10-07T17:12:21.903028Z"
    }
   },
   "outputs": [
    {
     "data": {
      "text/plain": [
       "array([[4.20071481, 0.7337023 ],\n",
       "       [0.7337023 , 4.541949  ]])"
      ]
     },
     "execution_count": 291,
     "metadata": {},
     "output_type": "execute_result"
    }
   ],
   "source": [
    "### Covariance\n",
    "\n",
    "cal_multivariate_covariance(data[['w1_x2', 'w1_x3']])"
   ]
  },
  {
   "cell_type": "markdown",
   "metadata": {},
   "source": [
    "###  (c) Modify your program to apply to three-dimensional Gaussian data $p(\\mathbf{x}) \\sim N(\\boldsymbol{\\mu}, \\boldsymbol{\\sum})$. "
   ]
  },
  {
   "cell_type": "code",
   "execution_count": 293,
   "metadata": {
    "ExecuteTime": {
     "end_time": "2020-10-07T17:16:25.434028Z",
     "start_time": "2020-10-07T17:16:25.430527Z"
    }
   },
   "outputs": [
    {
     "data": {
      "text/plain": [
       "[-0.07089999999999998, -0.6047000000000001, -0.9109999999999999]"
      ]
     },
     "execution_count": 293,
     "metadata": {},
     "output_type": "execute_result"
    }
   ],
   "source": [
    "### mean\n",
    "\n",
    "cal_multivariate_mean(data[['w1_x1', 'w1_x2', 'w1_x3']])"
   ]
  },
  {
   "cell_type": "code",
   "execution_count": 285,
   "metadata": {
    "ExecuteTime": {
     "end_time": "2020-10-07T16:46:38.199651Z",
     "start_time": "2020-10-07T16:46:38.196124Z"
    }
   },
   "outputs": [
    {
     "data": {
      "text/plain": [
       "array([[0.90617729, 0.56778177, 0.3940801 ],\n",
       "       [0.56778177, 4.20071481, 0.7337023 ],\n",
       "       [0.3940801 , 0.7337023 , 4.541949  ]])"
      ]
     },
     "execution_count": 285,
     "metadata": {},
     "output_type": "execute_result"
    }
   ],
   "source": [
    "### Covariance\n",
    "\n",
    "cal_multivariate_covariance(data[['w1_x1', 'w1_x2','w1_x3']])"
   ]
  },
  {
   "cell_type": "markdown",
   "metadata": {},
   "source": [
    "### (d) Assume your three-dimensional model is separable, so that \n",
    "\n",
    "\n",
    "$$\n",
    "\\sum = diag(\\sigma^2_1, \\sigma^2_2, \\sigma^2_3)\n",
    "$$ \n",
    "\n",
    " $\\quad$Write a program to estimate the mean and the diagonal componentes of $\\sum$, Apply your program to the data in $\\omega_2$."
   ]
  },
  {
   "cell_type": "code",
   "execution_count": 304,
   "metadata": {
    "ExecuteTime": {
     "end_time": "2020-10-07T18:24:28.775186Z",
     "start_time": "2020-10-07T18:24:28.770686Z"
    }
   },
   "outputs": [
    {
     "data": {
      "text/plain": [
       "[-0.11259999999999999, 0.42989999999999995, 0.006870000000000001]"
      ]
     },
     "execution_count": 304,
     "metadata": {},
     "output_type": "execute_result"
    }
   ],
   "source": [
    "### mean\n",
    "\n",
    "cal_multivariate_mean(data[['w2_x1', 'w2_x2', 'w2_x3']])"
   ]
  },
  {
   "cell_type": "code",
   "execution_count": 302,
   "metadata": {
    "ExecuteTime": {
     "end_time": "2020-10-07T17:55:38.849689Z",
     "start_time": "2020-10-07T17:55:38.845190Z"
    }
   },
   "outputs": [],
   "source": [
    "# 최대우도를 만들어주는 공분산의 추정량 (다변량)\n",
    "\n",
    "def cal_multivariate_covariance_with_diag(df):\n",
    "    mat = df.values.tolist()\n",
    "    means = np.mean(mat, axis=0).tolist()\n",
    "    cov_matrix = []\n",
    "    for i in range(len(means)):\n",
    "        covs = []\n",
    "        for j in range(len(means)):\n",
    "            sum = 0\n",
    "            for k in range(sample_n):\n",
    "                if i == j:\n",
    "                    sum += (mat[k][i] - means[i])**2\n",
    "                    result = sum / sample_n\n",
    "                else:\n",
    "                    result = 0 \n",
    "            covs.append(result)\n",
    "        cov_matrix.append(covs)\n",
    "    \n",
    "    return np.reshape(cov_matrix, (len(means), len(means)))\n"
   ]
  },
  {
   "cell_type": "code",
   "execution_count": 307,
   "metadata": {
    "ExecuteTime": {
     "end_time": "2020-10-07T18:32:17.925200Z",
     "start_time": "2020-10-07T18:32:17.920700Z"
    }
   },
   "outputs": [
    {
     "data": {
      "text/plain": [
       "array([[0.05392584, 0.        , 0.        ],\n",
       "       [0.        , 0.04597009, 0.        ],\n",
       "       [0.        , 0.        , 0.00711087]])"
      ]
     },
     "execution_count": 307,
     "metadata": {},
     "output_type": "execute_result"
    }
   ],
   "source": [
    "cal_multivariate_covariance_with_diag(data[['w2_x1', 'w2_x2', 'w2_x3']])"
   ]
  }
 ],
 "metadata": {
  "hide_input": false,
  "kernelspec": {
   "display_name": "Python 3",
   "language": "python",
   "name": "python3"
  },
  "language_info": {
   "codemirror_mode": {
    "name": "ipython",
    "version": 3
   },
   "file_extension": ".py",
   "mimetype": "text/x-python",
   "name": "python",
   "nbconvert_exporter": "python",
   "pygments_lexer": "ipython3",
   "version": "3.7.1"
  },
  "toc": {
   "base_numbering": 1,
   "nav_menu": {},
   "number_sections": false,
   "sideBar": true,
   "skip_h1_title": false,
   "title_cell": "Table of Contents",
   "title_sidebar": "Contents",
   "toc_cell": false,
   "toc_position": {},
   "toc_section_display": true,
   "toc_window_display": true
  }
 },
 "nbformat": 4,
 "nbformat_minor": 2
}
